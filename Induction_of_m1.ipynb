{
 "cells": [
  {
   "cell_type": "code",
   "execution_count": 1,
   "id": "d5c9e087",
   "metadata": {},
   "outputs": [],
   "source": [
    "import numpy as np\n",
    "import pickle\n",
    "%matplotlib inline\n",
    "import matplotlib.pyplot as plt\n",
    "import sys, os\n",
    "sys.path.append(os.environ['rapp'])\n",
    "sys.path.append(os.environ['raco'])\n",
    "sys.path.append(os.environ['rapl'] + '/azav')\n",
    "from azav_util import plot_azav\n",
    "from common import *\n",
    "from plotcommon import *\n",
    "from constants import *\n",
    "labelsize = 8"
   ]
  },
  {
   "cell_type": "code",
   "execution_count": 3,
   "id": "85e9575f",
   "metadata": {},
   "outputs": [],
   "source": [
    "dirname = '/nobackup/lmatilsk/case_M_tspec-lowcad/'\n",
    "datadir = dirname + 'data/'\n",
    "mtracedir = datadir + 'mtrace_mmax010/'"
   ]
  },
  {
   "cell_type": "code",
   "execution_count": 10,
   "id": "29a8e79c",
   "metadata": {},
   "outputs": [
    {
     "name": "stdout",
     "output_type": "stream",
     "text": [
      "irvals     = [ 73  85  99 137 147 155 161 168 176 182]\n",
      "rvals      = [4.985e+10 4.919e+10 4.805e+10 4.599e+10 4.414e+10 4.198e+10 4.018e+10 3.810e+10 3.606e+10 3.494e+10]\n",
      "rvals/rsun = [0.717 0.707 0.691 0.661 0.634 0.603 0.578 0.548 0.518 0.502]\n"
     ]
    }
   ],
   "source": [
    "radlevs = get_slice_levels(dirname)\n",
    "print ('irvals     =', radlevs.inds)\n",
    "print ('rvals      = ' + arr_to_str(radlevs.radius, \"%1.3e\"))\n",
    "print ('rvals/rsun = ' + arr_to_str(radlevs.radius/rsun, \"%.3f\"))"
   ]
  },
  {
   "cell_type": "code",
   "execution_count": 23,
   "id": "e096f862",
   "metadata": {},
   "outputs": [],
   "source": [
    "# Get necessary grid info\n",
    "di_grid = get_grid_info(dirname)\n",
    "rr = di_grid['rr']\n",
    "cost = di_grid['cost']\n",
    "sint = di_grid['sint']\n",
    "tt_lat = di_grid['tt_lat']\n",
    "xx = di_grid['xx']\n",
    "tt = di_grid['tt']\n",
    "nt = di_grid['nt']\n",
    "nr = di_grid['nr']"
   ]
  },
  {
   "cell_type": "code",
   "execution_count": 14,
   "id": "d0028419",
   "metadata": {},
   "outputs": [
    {
     "name": "stdout",
     "output_type": "stream",
     "text": [
      "reading /nobackup/lmatilsk/case_M_tspec-lowcad/data/mtrace_mmax010/mtrace_qval0802_irval02-17751000_21286000.pkl\n",
      "reading /nobackup/lmatilsk/case_M_tspec-lowcad/data/mtrace_mmax010/mtrace_qval3002_irval02-17751000_21286000.pkl\n",
      "reading /nobackup/lmatilsk/case_M_tspec-lowcad/data/mtrace_mmax010/mtrace_qval3005_irval02-17751000_21286000.pkl\n",
      "reading /nobackup/lmatilsk/case_M_tspec-lowcad/data/mtrace_mmax010/mtrace_qval3008_irval02-17751000_21286000.pkl\n",
      "reading /nobackup/lmatilsk/case_M_tspec-lowcad/data/mtrace_mmax010/mtrace_qval3011_irval02-17751000_21286000.pkl\n",
      "reading /nobackup/lmatilsk/case_M_tspec-lowcad/data/mtrace_mmax010/mtrace_qval0003_irval02-17751000_21286000.pkl\n"
     ]
    }
   ],
   "source": [
    "irval = 2 \n",
    "part = 'real'\n",
    "mval = 1\n",
    "\n",
    "if part == 'imag':\n",
    "    partfunc = np.imag\n",
    "elif part == 'abs':\n",
    "    partfunc = np.abs\n",
    "elif part == 'real':\n",
    "    partfunc = np.real\n",
    "\n",
    "# read in induction data\n",
    "qval = 802\n",
    "the_file = get_widest_range_file(mtracedir, 'mtrace_qval%04i_irval%02i' %(qval, irval))\n",
    "print(\"reading \" + the_file)\n",
    "di = get_dict(the_file)\n",
    "bt = partfunc(di['vals'][:, mval, :])\n",
    "\n",
    "qval = 3002\n",
    "the_file = get_widest_range_file(mtracedir, 'mtrace_qval%04i_irval%02i' %(qval, irval))\n",
    "print(\"reading \" + the_file)\n",
    "di = get_dict(the_file)\n",
    "indt = partfunc(di['vals'][:, mval, :])\n",
    "\n",
    "qval = 3005\n",
    "the_file = get_widest_range_file(mtracedir, 'mtrace_qval%04i_irval%02i' %(qval, irval))\n",
    "print(\"reading \" + the_file)\n",
    "di = get_dict(the_file)\n",
    "sheart = partfunc(di['vals'][:, mval, :])\n",
    "\n",
    "qval = 3008\n",
    "the_file = get_widest_range_file(mtracedir, 'mtrace_qval%04i_irval%02i' %(qval, irval))\n",
    "print(\"reading \" + the_file)\n",
    "di = get_dict(the_file)\n",
    "advt = partfunc(di['vals'][:, mval, :])\n",
    "\n",
    "qval = 3011\n",
    "the_file = get_widest_range_file(mtracedir, 'mtrace_qval%04i_irval%02i' %(qval, irval))\n",
    "print(\"reading \" + the_file)\n",
    "di = get_dict(the_file)\n",
    "compt = partfunc(di['vals'][:, mval, :])\n",
    "\n",
    "qval = 3\n",
    "the_file = get_widest_range_file(mtracedir, 'mtrace_qval%04i_irval%02i' %(qval, irval))\n",
    "print(\"reading \" + the_file)\n",
    "di = get_dict(the_file)\n",
    "vp_m0 = partfunc(di['vals'][:, 0, :])"
   ]
  },
  {
   "cell_type": "code",
   "execution_count": 19,
   "id": "a08906b0",
   "metadata": {},
   "outputs": [],
   "source": [
    "# Let's remove the differential rotation \n",
    "times = di['times']\n",
    "dbtdt =  np.gradient(bt, times, axis=0)\n",
    "xx_tl = radlevs.radius[irval]*sint.reshape((1, nt))\n",
    "dbtdt_nodr = dbtdt + 1.0j*vp_m0/x_"
   ]
  },
  {
   "cell_type": "code",
   "execution_count": 17,
   "id": "a6ff4354",
   "metadata": {},
   "outputs": [
    {
     "data": {
      "text/plain": [
       "<function numpy.gradient(f, *varargs, axis=None, edge_order=1)>"
      ]
     },
     "execution_count": 17,
     "metadata": {},
     "output_type": "execute_result"
    }
   ],
   "source": [
    "np.gradient"
   ]
  },
  {
   "cell_type": "code",
   "execution_count": null,
   "id": "4c36ab92",
   "metadata": {},
   "outputs": [],
   "source": []
  }
 ],
 "metadata": {
  "kernelspec": {
   "display_name": "Python 3",
   "language": "python",
   "name": "python3"
  },
  "language_info": {
   "codemirror_mode": {
    "name": "ipython",
    "version": 3
   },
   "file_extension": ".py",
   "mimetype": "text/x-python",
   "name": "python",
   "nbconvert_exporter": "python",
   "pygments_lexer": "ipython3",
   "version": "3.7.10"
  }
 },
 "nbformat": 4,
 "nbformat_minor": 5
}
