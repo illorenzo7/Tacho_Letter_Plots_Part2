{
 "cells": [
  {
   "cell_type": "code",
   "execution_count": 1,
   "id": "350a99bc",
   "metadata": {},
   "outputs": [],
   "source": [
    "import numpy as np\n",
    "import pickle\n",
    "%matplotlib inline\n",
    "import matplotlib.pyplot as plt\n",
    "import sys, os\n",
    "sys.path.append(os.environ['rapp'])\n",
    "sys.path.append(os.environ['raco'])\n",
    "sys.path.append(os.environ['rapl'] + '/azav')\n",
    "from azav_util import plot_azav\n",
    "from common import *\n",
    "from plotcommon import *\n",
    "from constants import *\n",
    "labelsize = 8"
   ]
  },
  {
   "cell_type": "code",
   "execution_count": 3,
   "id": "afcb68d3",
   "metadata": {},
   "outputs": [],
   "source": [
    "dirname = '/nobackup/lmatilsk/case_M_tspec-lowcad/'\n",
    "datadir = dirname + 'data/'\n",
    "mtracedir = datadir + 'mtrace_mmax010/'"
   ]
  },
  {
   "cell_type": "code",
   "execution_count": 10,
   "id": "cb9118c1",
   "metadata": {},
   "outputs": [
    {
     "name": "stdout",
     "output_type": "stream",
     "text": [
      "irvals     = [ 73  85  99 137 147 155 161 168 176 182]\n",
      "rvals      = [4.985e+10 4.919e+10 4.805e+10 4.599e+10 4.414e+10 4.198e+10 4.018e+10 3.810e+10 3.606e+10 3.494e+10]\n",
      "rvals/rsun = [0.717 0.707 0.691 0.661 0.634 0.603 0.578 0.548 0.518 0.502]\n"
     ]
    }
   ],
   "source": [
    "radlevs = get_slice_levels(dirname)\n",
    "print ('irvals     =', radlevs.inds)\n",
    "print ('rvals      = ' + arr_to_str(radlevs.radius, \"%1.3e\"))\n",
    "print ('rvals/rsun = ' + arr_to_str(radlevs.radius/rsun, \"%.3f\"))"
   ]
  },
  {
   "cell_type": "code",
   "execution_count": null,
   "id": "d93b3847",
   "metadata": {},
   "outputs": [],
   "source": [
    "ir0 = 2 \n",
    "\n",
    "# read in induction data\n"
   ]
  }
 ],
 "metadata": {
  "kernelspec": {
   "display_name": "Python 3",
   "language": "python",
   "name": "python3"
  },
  "language_info": {
   "codemirror_mode": {
    "name": "ipython",
    "version": 3
   },
   "file_extension": ".py",
   "mimetype": "text/x-python",
   "name": "python",
   "nbconvert_exporter": "python",
   "pygments_lexer": "ipython3",
   "version": "3.7.10"
  }
 },
 "nbformat": 4,
 "nbformat_minor": 5
}
