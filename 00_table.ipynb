{
 "cells": [
  {
   "cell_type": "code",
   "execution_count": 1,
   "id": "closed-ballot",
   "metadata": {},
   "outputs": [],
   "source": [
    "import numpy as np\n",
    "import pickle\n",
    "import sys, os\n",
    "sys.path.append(os.environ['rapp'])\n",
    "sys.path.append(os.environ['raco'])\n",
    "from common import *\n",
    "labelsize = 8"
   ]
  },
  {
   "cell_type": "code",
   "execution_count": 2,
   "id": "sensitive-nelson",
   "metadata": {},
   "outputs": [],
   "source": [
    "dirnames = ['/nobackup/lmatilsk/case_H', '/nobackup/lmatilsk/case_M']\n",
    "dirname = dirnames[1] # default dirname for other stuff\n",
    "rbcz = [0.726, 0.729]\n",
    "rov = [0.701, 0.710]"
   ]
  },
  {
   "cell_type": "code",
   "execution_count": 3,
   "id": "e838c76e",
   "metadata": {},
   "outputs": [],
   "source": [
    "# get grid info\n",
    "di_grid = get_grid_info(dirname)\n",
    "rr = di_grid['rr']\n",
    "rmin = np.min(rr)\n",
    "rmax = np.max(rr)\n",
    "r0 = 5e10\n",
    "rw = di_grid['rw']"
   ]
  },
  {
   "cell_type": "code",
   "execution_count": 4,
   "id": "998151aa",
   "metadata": {},
   "outputs": [],
   "source": [
    "def av_over_r(prof, r1, r2):\n",
    "    ir1 = np.argmin(np.abs(rr/rsun - r1))\n",
    "    ir2 = np.argmin(np.abs(rr/rsun - r2))\n",
    "    return np.sum( (prof*rw)[ir2:ir1+1])/np.sum(rw[ir2:ir1+1]) "
   ]
  },
  {
   "cell_type": "code",
   "execution_count": 5,
   "id": "occupied-pendant",
   "metadata": {},
   "outputs": [],
   "source": [
    "# define some system parameters and get background state\n",
    "eq = get_eq(dirname)\n",
    "H = rmax - r0\n",
    "lsun = 3.846e33\n",
    "om0 = 8.61e-6\n",
    "cp = 3.5e8\n",
    "n2 = eq.dsdr/cp*eq.gravity"
   ]
  },
  {
   "cell_type": "code",
   "execution_count": 6,
   "id": "25aafbad",
   "metadata": {},
   "outputs": [
    {
     "name": "stdout",
     "output_type": "stream",
     "text": [
      "reading /nobackup/lmatilsk/case_H/data/Shell_Avgs-02467500_18895000.pkl\n",
      "reading /nobackup/lmatilsk/case_M/data/Shell_Avgs-07802500_50222500.pkl\n"
     ]
    }
   ],
   "source": [
    "# get shell average profiles\n",
    "vals = []\n",
    "lut = []\n",
    "\n",
    "for dirn in dirnames:\n",
    "    the_file = get_widest_range_file(dirn + '/data/', 'Shell_Avgs')\n",
    "    print ('reading', the_file)\n",
    "    di = get_dict(the_file)\n",
    "    vals.append(di['vals'])\n",
    "    lut.append(di['lut'])"
   ]
  },
  {
   "cell_type": "code",
   "execution_count": 7,
   "id": "d6dbae8f",
   "metadata": {},
   "outputs": [],
   "source": [
    "# compute diagnostic numbers\n",
    "Re = []\n",
    "Rem = []\n",
    "Ro = []\n",
    "n2ratio = []\n",
    "\n",
    "for i in range(2):\n",
    "    vals_loc = vals[i]\n",
    "    lut_loc = lut[i]\n",
    "    rov_loc = rov[i]\n",
    "    rbcz_loc = rbcz[i]\n",
    "    \n",
    "    rke = vals_loc[:, 0, lut_loc[410]]\n",
    "    tke = vals_loc[:, 0, lut_loc[411]]\n",
    "    pke = vals_loc[:, 0, lut_loc[412]]\n",
    "    \n",
    "    cflux = vals_loc[:, 0, lut_loc[1470]]\n",
    "    dsdr_l0 = -cflux/(eq.rho*eq.T*eq.kappa)\n",
    "    n2_add = dsdr_l0/cp*eq.gravity\n",
    "    n2ratio_loc = (n2 + n2_add)/(om0)**2\n",
    "    \n",
    "    ke = rke + tke + pke\n",
    "    v2 = ke/eq.rho\n",
    "    v = np.sqrt(v2)\n",
    "    \n",
    "    r1, r2 = rbcz_loc, rmax/rsun\n",
    "    Re.append( av_over_r(v, r1, r2) * H / av_over_r(eq.nu, r1, r2))\n",
    "    Rem.append( av_over_r(v, r1, r2) * H / av_over_r(eq.eta, r1, r2))\n",
    "    Ro.append( av_over_r(v, r1, r2) / (2*om0*H))\n",
    "    n2ratio.append( av_over_r(n2ratio_loc, r1, r2))\n",
    "    \n",
    "    r1, r2 = rov_loc, rbcz_loc   \n",
    "    Re.append( av_over_r(v, r1, r2) * H / av_over_r(eq.nu, r1, r2))\n",
    "    Rem.append( av_over_r(v, r1, r2) * H / av_over_r(eq.eta, r1, r2))\n",
    "    Ro.append( av_over_r(v, r1, r2) / (2*om0*H))\n",
    "    n2ratio.append( av_over_r(n2ratio_loc, r1, r2))\n",
    "    \n",
    "    r1, r2 = rmin/rsun, rov_loc   \n",
    "    Re.append( av_over_r(v, r1, r2) * H / av_over_r(eq.nu, r1, r2))\n",
    "    Rem.append( av_over_r(v, r1, r2) * H / av_over_r(eq.eta, r1, r2))\n",
    "    Ro.append( av_over_r(v, r1, r2) / (2*om0*H))\n",
    "    n2ratio.append( av_over_r(n2ratio_loc, r1, r2))"
   ]
  },
  {
   "cell_type": "code",
   "execution_count": 8,
   "id": "f500e31f",
   "metadata": {},
   "outputs": [
    {
     "data": {
      "text/plain": [
       "[45.81406832935589,\n",
       " 58.44898998228546,\n",
       " 15.70358821297375,\n",
       " 36.31797216896867,\n",
       " 21.57664780216914,\n",
       " 2.862529727136516]"
      ]
     },
     "execution_count": 8,
     "metadata": {},
     "output_type": "execute_result"
    }
   ],
   "source": [
    "Re"
   ]
  },
  {
   "cell_type": "code",
   "execution_count": 9,
   "id": "92c53474",
   "metadata": {},
   "outputs": [
    {
     "data": {
      "text/plain": [
       "[183.25627331742356,\n",
       " 233.79595992914184,\n",
       " 62.814352851895,\n",
       " 145.2718886758747,\n",
       " 86.30659120867656,\n",
       " 11.450118908546065]"
      ]
     },
     "execution_count": 9,
     "metadata": {},
     "output_type": "execute_result"
    }
   ],
   "source": [
    "Rem"
   ]
  },
  {
   "cell_type": "code",
   "execution_count": 10,
   "id": "5d19efec",
   "metadata": {},
   "outputs": [
    {
     "data": {
      "text/plain": [
       "[0.024699950334565714,\n",
       " 0.014814974233724573,\n",
       " 0.002590962759694133,\n",
       " 0.01964872222396549,\n",
       " 0.005579474937683489,\n",
       " 0.0004843636027998933]"
      ]
     },
     "execution_count": 10,
     "metadata": {},
     "output_type": "execute_result"
    }
   ],
   "source": [
    "Ro"
   ]
  },
  {
   "cell_type": "code",
   "execution_count": 11,
   "id": "15177f9c",
   "metadata": {},
   "outputs": [
    {
     "data": {
      "text/plain": [
       "[-0.7253753523641906,\n",
       " 1131.8150377549146,\n",
       " 27994.659632778126,\n",
       " -0.7103419231126366,\n",
       " 205.7032052735687,\n",
       " 26672.37671651066]"
      ]
     },
     "execution_count": 11,
     "metadata": {},
     "output_type": "execute_result"
    }
   ],
   "source": [
    "n2ratio"
   ]
  },
  {
   "cell_type": "code",
   "execution_count": 12,
   "id": "771a27ba",
   "metadata": {},
   "outputs": [
    {
     "name": "stdout",
     "output_type": "stream",
     "text": [
      "45.814068 & 58.448990 & 15.703588 & 36.317972 & 21.576648 & 2.862530\\\\\n",
      "183.256273 & 233.795960 & 62.814353 & 145.271889 & 86.306591 & 11.450119\\\\\n",
      "0.024700 & 0.014815 & 0.002591 & 0.019649 & 0.005579 & 0.000484\\\\\n",
      "-0.725375 & 1131.815038 & 27994.659633 & -0.710342 & 205.703205 & 26672.376717\\\\\n"
     ]
    }
   ],
   "source": [
    "def printrow(row):\n",
    "    st = ''\n",
    "    for member in row:\n",
    "        st += '%1.6f & ' %member\n",
    "    st = st[:-3]\n",
    "    st += '\\\\\\\\'\n",
    "    return st\n",
    "\n",
    "print (printrow(Re))\n",
    "print (printrow(Rem))\n",
    "print (printrow(Ro))\n",
    "print (printrow(n2ratio))"
   ]
  },
  {
   "cell_type": "code",
   "execution_count": 13,
   "id": "14c3be9d",
   "metadata": {},
   "outputs": [],
   "source": [
    "# compute flux Rayleigh number and Ekman number\n",
    "nu_cz = av_over_r(eq.nu, r0/rsun, rmax/rsun)\n",
    "F_rad = di['vals'][:, 0, di['lut'][1433]]\n",
    "F_other = lsun/(4*np.pi*rr**2)\n",
    "F_cz = av_over_r(F_other, r0/rsun, rmax/rsun)\n",
    "g_cz = av_over_r(eq.gravity, r0/rsun, rmax/rsun)\n",
    "rho_cz = av_over_r(eq.rho, r0/rsun, rmax/rsun)\n",
    "T_cz = av_over_r(eq.T, r0/rsun, rmax/rsun)"
   ]
  },
  {
   "cell_type": "code",
   "execution_count": 14,
   "id": "f4930457",
   "metadata": {},
   "outputs": [
    {
     "data": {
      "text/plain": [
       "749717.5643120643"
      ]
     },
     "execution_count": 14,
     "metadata": {},
     "output_type": "execute_result"
    }
   ],
   "source": [
    "RaF = g_cz*F_cz*H**4/(cp*rho_cz*T_cz*nu_cz**3)\n",
    "RaF"
   ]
  },
  {
   "cell_type": "code",
   "execution_count": 15,
   "id": "6d86da3c",
   "metadata": {},
   "outputs": [
    {
     "data": {
      "text/plain": [
       "0.0010662306820766645"
      ]
     },
     "execution_count": 15,
     "metadata": {},
     "output_type": "execute_result"
    }
   ],
   "source": [
    "Ek = nu_cz/om0/H**2\n",
    "Ek"
   ]
  },
  {
   "cell_type": "code",
   "execution_count": 16,
   "id": "32429c97",
   "metadata": {},
   "outputs": [
    {
     "data": {
      "text/plain": [
       "1.7234241375520245"
      ]
     },
     "execution_count": 16,
     "metadata": {},
     "output_type": "execute_result"
    }
   ],
   "source": [
    "Di = g_cz*H/(cp*T_cz)\n",
    "Di"
   ]
  },
  {
   "cell_type": "code",
   "execution_count": null,
   "id": "ad33a1a1",
   "metadata": {},
   "outputs": [],
   "source": []
  }
 ],
 "metadata": {
  "kernelspec": {
   "display_name": "Python 3",
   "language": "python",
   "name": "python3"
  },
  "language_info": {
   "codemirror_mode": {
    "name": "ipython",
    "version": 3
   },
   "file_extension": ".py",
   "mimetype": "text/x-python",
   "name": "python",
   "nbconvert_exporter": "python",
   "pygments_lexer": "ipython3",
   "version": "3.7.10"
  }
 },
 "nbformat": 4,
 "nbformat_minor": 5
}
