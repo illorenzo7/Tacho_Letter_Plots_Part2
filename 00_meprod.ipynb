{
 "cells": [
  {
   "cell_type": "code",
   "execution_count": 1,
   "id": "6a8533ad",
   "metadata": {},
   "outputs": [],
   "source": [
    "%matplotlib inline\n",
    "import numpy as np\n",
    "import matplotlib.pyplot as plt\n",
    "from matplotlib.patches import Polygon\n",
    "import sys, os\n",
    "sys.path.append(os.environ['rapp'])\n",
    "sys.path.append(os.environ['raco'])\n",
    "sys.path.append(os.environ['rapl'])\n",
    "from rayleigh_diagnostics import *\n",
    "from common import *\n",
    "from plotcommon import *\n",
    "from constants import *"
   ]
  },
  {
   "cell_type": "code",
   "execution_count": 2,
   "id": "5df58f52",
   "metadata": {},
   "outputs": [],
   "source": [
    "dirname = '/nobackup/lmatilsk/case_M/'\n",
    "#dirname = '/altair/loma3853/public/case_M/'\n",
    "di_grid = get_grid_info(dirname)\n",
    "rr = di_grid['rr']/rsun\n",
    "rmin = np.min(rr)\n",
    "rmax = np.max(rr)\n",
    "tw_2d = di_grid['tw_2d']"
   ]
  },
  {
   "cell_type": "code",
   "execution_count": 3,
   "id": "62b9ebfe",
   "metadata": {},
   "outputs": [
    {
     "name": "stdout",
     "output_type": "stream",
     "text": [
      "reading /nobackup/lmatilsk/case_M//data/Shell_Avgs-07802500_50222500.pkl\n"
     ]
    }
   ],
   "source": [
    "datadir = dirname + '/data/'\n",
    "\n",
    "the_file = get_widest_range_file(datadir, 'Shell_Avgs') # rbcz = ACTUAL rbcz = 0.72 rsun\n",
    "#the_file = the_file.replace()\n",
    "print ('reading ' + the_file)\n",
    "di = get_dict(the_file)\n",
    "vals = di['vals']\n",
    "lut = di['lut']\n",
    "prot = compute_Prot(dirname)"
   ]
  },
  {
   "cell_type": "code",
   "execution_count": 4,
   "id": "48ab97de",
   "metadata": {},
   "outputs": [],
   "source": [
    "# get induction and diffusion terms\n",
    "\n",
    "# total production\n",
    "fact = 1/(4*np.pi)\n",
    "indr = vals[:, 0, lut[2201]]*fact\n",
    "indt = vals[:, 0, lut[2202]]*fact\n",
    "indp = vals[:, 0, lut[2203]]*fact\n",
    "\n",
    "diffr = vals[:, 0, lut[2213]]*fact\n",
    "difft = vals[:, 0, lut[2214]]*fact\n",
    "diffp = vals[:, 0, lut[2215]]*fact\n",
    "\n",
    "# mean shear production of phi\n",
    "indp_ms = (vals[:, 0, lut[2218]] + vals[:, 0, lut[2242]])*fact\n",
    "\n",
    "# r prod, shear and comp\n",
    "indr_shear = vals[:, 0, lut[2304]]*fact\n",
    "indr_comp = vals[:, 0, lut[2310]]*fact\n",
    "indr_adv = vals[:, 0, lut[2307]]*fact\n",
    "\n",
    "# theta prod, shear and comp\n",
    "indt_shear = vals[:, 0, lut[2305]]*fact\n",
    "indt_comp = vals[:, 0, lut[2311]]*fact\n",
    "indt_adv = vals[:, 0, lut[2308]]*fact\n",
    "\n",
    "indp_adv = vals[:, 0, lut[2309]]*fact\n",
    "\n",
    "# theta prod, shear and comp, broken up more\n",
    "indt_shear1 = vals[:, 0, lut[2402]]*fact\n",
    "indt_shear2 = vals[:, 0, lut[2405]]*fact\n",
    "\n",
    "indt_comp1 = vals[:, 0, lut[2417]]*fact\n",
    "indt_comp2 = vals[:, 0, lut[2420]]*fact\n",
    "\n",
    "indr_adv1 = vals[:, 0, lut[2407]]*fact\n",
    "indr_adv2 = vals[:, 0, lut[2410]]*fact\n",
    "indr_adv3 = vals[:, 0, lut[2413]]*fact\n",
    "\n",
    "indt_adv1 = vals[:, 0, lut[2408]]*fact\n",
    "indt_adv2 = vals[:, 0, lut[2411]]*fact\n",
    "indt_adv3 = vals[:, 0, lut[2414]]*fact\n",
    "\n",
    "indp_adv1 = vals[:, 0, lut[2409]]*fact\n",
    "indp_adv2 = vals[:, 0, lut[2412]]*fact\n",
    "indp_adv3 = vals[:, 0, lut[2415]]*fact"
   ]
  },
  {
   "cell_type": "code",
   "execution_count": 5,
   "id": "cc0ba50c",
   "metadata": {},
   "outputs": [
    {
     "name": "stdout",
     "output_type": "stream",
     "text": [
      "reading /nobackup/lmatilsk/case_M//data/AZ_Avgs-07802500_50220000.pkl\n"
     ]
    },
    {
     "data": {
      "text/plain": [
       "4000"
      ]
     },
     "execution_count": 5,
     "metadata": {},
     "output_type": "execute_result"
    }
   ],
   "source": [
    "# this isn't REALLY the mean shear term as I defined it (should use the time averaged omega, not instantaneous \n",
    "# <v_\\phi / r sintheta)\n",
    "# I think I can get the actual mean shear though\n",
    "the_file = get_widest_range_file(datadir, 'AZ_Avgs') # rbcz = ACTUAL rbcz = 0.72 rsun\n",
    "#the_file = the_file.replace()\n",
    "print ('reading ' + the_file)\n",
    "di_az = get_dict(the_file)\n",
    "vals_az = di_az['vals']\n",
    "lut_az = di_az['lut']\n",
    "np.sum(lut_az==lut)"
   ]
  },
  {
   "cell_type": "code",
   "execution_count": 6,
   "id": "f7764f14",
   "metadata": {},
   "outputs": [
    {
     "name": "stdout",
     "output_type": "stream",
     "text": [
      "(1, 192)\n",
      "(384, 1)\n",
      "(384, 1)\n",
      "192\n"
     ]
    }
   ],
   "source": [
    "print(np.shape(di_grid['rr_2d']))\n",
    "print(np.shape(di_grid['sint_2d']))\n",
    "print(np.shape(di_grid['tw_2d']))\n",
    "print (len(rr))"
   ]
  },
  {
   "cell_type": "code",
   "execution_count": 7,
   "id": "0e8f5018",
   "metadata": {},
   "outputs": [
    {
     "name": "stdout",
     "output_type": "stream",
     "text": [
      "(384, 192)\n"
     ]
    }
   ],
   "source": [
    "bpolb_r = -(vals_az[:, :, lut[1815]]+vals_az[:, :, lut[1817]])\n",
    "bpolb_t = -(vals_az[:, :, lut[1816]]+vals_az[:, :, lut[1818]])\n",
    "famom_visc_r = vals_az[:, :, lut[1813]]\n",
    "famom_visc_t = vals_az[:, :, lut[1814]]\n",
    "\n",
    "eq = get_eq(dirname)\n",
    "prefactor = -1/((eq.rho*eq.nu).reshape((1, len(rr)))*\\\n",
    "    di_grid['rr_2d']**2*di_grid['sint_2d']**2) # visc flux --> DOm/dr\n",
    "print(np.shape(prefactor))\n",
    "dOmdr = prefactor*famom_visc_r\n",
    "dOmdt = prefactor*famom_visc_t\n",
    "\n",
    "indp_ms_r = np.sum(di_grid['tw_2d']*bpolb_r*dOmdr, axis=0)\n",
    "indp_ms_t = np.sum(di_grid['tw_2d']*bpolb_t*dOmdt, axis=0)\n",
    "indp_ms_exact = indp_ms_r + indp_ms_t"
   ]
  },
  {
   "cell_type": "code",
   "execution_count": 8,
   "id": "88e34e00",
   "metadata": {},
   "outputs": [
    {
     "name": "stdout",
     "output_type": "stream",
     "text": [
      "fig size:  4.75 2.625\n"
     ]
    }
   ],
   "source": [
    "# make good line plot dimensions\n",
    "fig_width_inches = 4.75\n",
    "margin_inches = 1/16 # margin width in inches (for both x and y) and \n",
    "    # horizontally in between figures\n",
    "margin_bottom_inches = 3/8\n",
    "margin_top_inches = 1/4 # wider top title\n",
    "margin_left_inches = 5/8\n",
    "margin_right_inches = 1/16\n",
    "\n",
    "subplot_width_inches = (fig_width_inches - margin_left_inches - 3*margin_right_inches)/2\n",
    "\n",
    "subplot_height_inches = 2\n",
    "fig_height_inches = margin_top_inches + subplot_height_inches + margin_bottom_inches\n",
    "\n",
    "margin_x = margin_inches/fig_width_inches\n",
    "margin_y = margin_inches/fig_height_inches\n",
    "margin_top = margin_top_inches/fig_height_inches\n",
    "margin_bottom = margin_bottom_inches/fig_height_inches\n",
    "\n",
    "# Subplot dimensions in figure units\n",
    "subplot_width = subplot_width_inches/fig_width_inches\n",
    "subplot_height = subplot_height_inches/fig_height_inches \n",
    "\n",
    "margin_left = margin_left_inches/fig_width_inches\n",
    "margin_right = margin_right_inches/fig_width_inches\n",
    "\n",
    "print (\"fig size: \", fig_width_inches, fig_height_inches)"
   ]
  },
  {
   "cell_type": "code",
   "execution_count": 9,
   "id": "5fd0f0ec",
   "metadata": {
    "scrolled": true
   },
   "outputs": [
    {
     "data": {
      "image/png": "[encoded data removed]",
      "text/plain": [
       "<Figure size 342x189 with 2 Axes>"
      ]
     },
     "metadata": {
      "needs_background": "light"
     },
     "output_type": "display_data"
    }
   ],
   "source": [
    "# make paper figure\n",
    "# set some parameters\n",
    "fontsize = 8\n",
    "lw = 1\n",
    "\n",
    "# r limit stuff\n",
    "#rcut = r_ovshoot + 0.01\n",
    "rcut = 0.76\n",
    "pumpcut = 0.49 # I think this was a bad idea\n",
    "ipumpcut = np.argmin(np.abs(rr - pumpcut))\n",
    "\n",
    "# build figure\n",
    "fig = plt.figure(figsize=(fig_width_inches, fig_height_inches))\n",
    "\n",
    "ax1 = fig.add_axes((margin_left, margin_bottom, subplot_width, subplot_height))\n",
    "ax2 = fig.add_axes((margin_left + margin_right + subplot_width, margin_bottom,\\\n",
    "        subplot_width, subplot_height), sharex=ax1, sharey=ax1)\n",
    "\n",
    "# plot the production of B_phi\n",
    "\n",
    "# plot the profiles\n",
    "ordinate=0\n",
    "ax1.plot(rr, indp*0.1, color=color_order[ordinate], linestyle=style_order[ordinate],\\\n",
    "         label='ind')\n",
    "ordinate=1\n",
    "ax1.plot(rr, diffp*0.1, color=color_order[ordinate], linestyle=style_order[ordinate],\\\n",
    "         label='dif')\n",
    "#ordinate=2\n",
    "#ax1.plot(rr, indp_ms_exact*0.1, color=color_order[ordinate], linestyle=style_order[ordinate],\\\n",
    "#         label='mean shear')\n",
    "ordinate=2#3\n",
    "ax1.plot(rr, indp_ms_t*0.1, color=color_order[ordinate], linestyle=style_order[ordinate],\\\n",
    "         label='hms')\n",
    "ordinate=3#4\n",
    "ax1.plot(rr, indp_ms_r*0.1, color=color_order[ordinate], linestyle=style_order[ordinate],\\\n",
    "         label='vms')\n",
    "ordinate=4\n",
    "ax1.plot(rr[:ipumpcut], indp_adv1[:ipumpcut], color=color_order[ordinate], linestyle=style_order[ordinate],\\\n",
    "         label='pum')\n",
    "\n",
    "#ordinate=4#5\n",
    "#ax1.plot(rr, (indp + diffp)*0.1, color=color_order[ordinate], linestyle=style_order[ordinate],\\\n",
    "#         label='toroidal total')\n",
    "ax1.legend(fontsize=fontsize, loc='lower left', ncol=2, columnspacing=1.)\n",
    "\n",
    "# add zero line (maybe) and linthresh (make this symlog)\n",
    "#ax1.plot(rr, rr*0, 'k--', linewidth=lw)\n",
    "linthresh = 3e-7\n",
    "ax1.plot(rr, rr*0 - linthresh, 'k--', linewidth=lw)\n",
    "ax1.plot(rr, rr*0 + linthresh, 'k--', linewidth=lw)\n",
    "#ax1.text(0.6025, 0, 'linear scale', ha='left', va='center', fontsize=fontsize)\n",
    "#ax1.text(0.65, 1e-4, 'log scale', ha='left', va='center', fontsize=fontsize)\n",
    "#ax1.text(0.65, -1e-4, 'log scale', ha='left', va='center', fontsize=fontsize)\n",
    "\n",
    "# set y limits\n",
    "ymin, ymax = -1, 0.1\n",
    "ax1.set_ylim(ymin, ymax)\n",
    "ax1.set_ylabel('magnetic energy production (' + r'$\\rm{W\\ m^{-3}}$' + ')', fontsize=fontsize)\n",
    "\n",
    "# add radial lines\n",
    "yvals = np.linspace(ymin, ymax, 100)\n",
    "count = 0\n",
    "for rval in rvals_M:\n",
    "    ax1.plot(rval + np.zeros(100), yvals, color=linecolors[count], linestyle=linestyles[count], linewidth=lw)\n",
    "    count += 1\n",
    "\n",
    "# set x limits\n",
    "ax1.set_xlim(np.min(rr), rcut)\n",
    "#ax1.set_xlabel(r'$r/R_\\odot$', fontsize=fontsize)\n",
    "\n",
    "\n",
    "\n",
    "\n",
    "\n",
    "\n",
    "# plot the production of B_theta\n",
    "\n",
    "# plot the profiles\n",
    "# convert to SI units (yeah I know )\n",
    "ordinate=0\n",
    "ax2.plot(rr, (indt + 0*indr)*0.1, color=color_order[ordinate], linestyle=style_order[ordinate],\\\n",
    "         label='ind')\n",
    "ordinate=1\n",
    "ax2.plot(rr, (difft + 0*diffr)*0.1, color=color_order[ordinate], linestyle=style_order[ordinate],\\\n",
    "         label='dif')\n",
    "ordinate=2\n",
    "ax2.plot(rr, (indt_comp + 0*indr_comp)*0.1, color=color_order[ordinate], linestyle=style_order[ordinate],\\\n",
    "         label='com')\n",
    "ordinate=3\n",
    "ax2.plot(rr, (indt_shear + 0*indr_shear)*0.1, color=color_order[ordinate], linestyle=style_order[ordinate],\\\n",
    "         label='she')\n",
    "ordinate=4\n",
    "ax2.plot(rr[:ipumpcut], (indt_adv1[:ipumpcut] + 0*indr_adv1[:ipumpcut])*0.1, color=color_order[ordinate], linestyle=style_order[ordinate],\\\n",
    "         label='pum')\n",
    "#ordinate=5\n",
    "#ax2.plot(rr, (indt_adv + 1*indr_adv)*0.1, color=color_order[ordinate], linestyle=style_order[ordinate],\\\n",
    "#         label=r'$\\theta$' + ' advection')\n",
    "#ordinate=4\n",
    "#ax2.plot(rr, (indt + difft+indr+diffr)*0.1, color=color_order[ordinate], linestyle=style_order[ordinate],\\\n",
    "#         label='poloidal total')\n",
    "ax2.legend(fontsize=fontsize, loc='lower left', ncol=2, columnspacing=1.)\n",
    "\n",
    "# add zero line (maybe) and linthresh (make this symlog)\n",
    "#ax2.plot(rr, rr*0, 'k--', linewidth=lw)\n",
    "ax2.set_yscale('symlog', linthresh=linthresh)\n",
    "ax2.plot(rr, rr*0 - linthresh, 'k--', linewidth=lw)\n",
    "ax2.plot(rr, rr*0 + linthresh, 'k--', linewidth=lw)\n",
    "\n",
    "# add radial lines\n",
    "yvals = np.linspace(ymin, ymax, 100)\n",
    "count = 0\n",
    "for rval in rvals_M:\n",
    "    ax2.plot(rval + np.zeros(100), yvals, color=linecolors[count], linestyle=linestyles[count], linewidth=lw)\n",
    "    count += 1\n",
    "    \n",
    "# remove tick labels\n",
    "plt.setp(ax2.get_yticklabels(), visible=False)\n",
    "#ax2.set_yticklabels([])\n",
    "\n",
    "# set x limits\n",
    "#rcut = r_ovshoot + 0.01\n",
    "#ax2.set_xlim(np.min(rr), rcut)\n",
    "#ax2.set_xlabel(r'$r/R_\\odot$', fontsize=fontsize)\n",
    "\n",
    "\n",
    "\n",
    "# make labels\n",
    "ax1.set_title('A', loc='left', fontweight='bold', fontsize=fontsize)\n",
    "ax2.set_title('B', loc='left', fontweight='bold', fontsize=fontsize)\n",
    "\n",
    "# put what we're plotting there too\n",
    "buffspace = ' '*5\n",
    "ax1.set_title('toroidal production' + buffspace, loc='right', fontsize=fontsize)\n",
    "ax2.set_title(r'$\\theta$' + ' production' + buffspace, loc='right', fontsize=fontsize)\n",
    "\n",
    "\n",
    "\n",
    "# remove the annoying 10^-7 ticks (have no idea how I did this or why it makes sense)\n",
    "yticks = ax1.get_yticks().tolist()\n",
    "yticks.pop(7+int(np.log10(np.abs(ymin))))\n",
    "yticks.pop(8+int(np.log10(np.abs(ymin))))\n",
    "ax1.set_yticks(yticks)\n",
    "#ax2.set_yticks(yticks)\n",
    "ax1.set_ylim(ymin, ymax)\n",
    "\n",
    "# add shade in 'linear region'\n",
    "xvals = np.linspace(np.min(rr), rcut, 100)\n",
    "for ax in ax1, ax2:\n",
    "    ax.fill_between(xvals, xvals*0 - linthresh, xvals*0 + linthresh, fc=\"k\", alpha=0.2)\n",
    "\n",
    "    # point ticks inward and get them on all sides\n",
    "    plt.sca(ax)\n",
    "    plt.tick_params(top=True, right=True, direction='in', which='both', labelsize=fontsize)\n",
    "plt.sca(ax1)\n",
    "plt.minorticks_off()\n",
    "\n",
    "# label both x axes\n",
    "fig.text(margin_left + subplot_width + 0.5*margin_x, margin_y,\\\n",
    "         r'$r/R_\\odot$', fontsize=fontsize, ha='center', va='bottom')\n",
    "\n",
    "plt.savefig('images/meprod.png', dpi=300)"
   ]
  },
  {
   "cell_type": "code",
   "execution_count": 10,
   "id": "1ece87c2",
   "metadata": {},
   "outputs": [
    {
     "data": {
      "text/plain": [
       "15"
      ]
     },
     "execution_count": 10,
     "metadata": {},
     "output_type": "execute_result"
    }
   ],
   "source": [
    "len(yticks)"
   ]
  },
  {
   "cell_type": "code",
   "execution_count": 11,
   "id": "d67a1404",
   "metadata": {},
   "outputs": [
    {
     "data": {
      "text/plain": [
       "[<matplotlib.axis.YTick at 0x2aaae3225a50>,\n",
       " <matplotlib.axis.YTick at 0x2aaae321c310>,\n",
       " <matplotlib.axis.YTick at 0x2aaae31d1e10>,\n",
       " <matplotlib.axis.YTick at 0x2aaae3a0ff90>,\n",
       " <matplotlib.axis.YTick at 0x2aaae3a19510>,\n",
       " <matplotlib.axis.YTick at 0x2aaae3a19a90>,\n",
       " <matplotlib.axis.YTick at 0x2aaae3a19fd0>,\n",
       " <matplotlib.axis.YTick at 0x2aaae3a20550>,\n",
       " <matplotlib.axis.YTick at 0x2aaae3a20a90>,\n",
       " <matplotlib.axis.YTick at 0x2aaae3a20950>,\n",
       " <matplotlib.axis.YTick at 0x2aaae3a2a510>,\n",
       " <matplotlib.axis.YTick at 0x2aaae3a20050>,\n",
       " <matplotlib.axis.YTick at 0x2aaae3a0fd90>]"
      ]
     },
     "execution_count": 11,
     "metadata": {},
     "output_type": "execute_result"
    }
   ],
   "source": [
    "\n",
    "# remove the annoying 10^-7 ticks\n",
    "yticks = ax1.get_yticks().tolist()\n",
    "yticks.pop(7)\n",
    "yticks.pop(8)\n",
    "ax1.set_yticks(yticks)\n",
    "ax2.set_yticks(yticks)"
   ]
  },
  {
   "cell_type": "code",
   "execution_count": 12,
   "id": "d0f16dd2",
   "metadata": {},
   "outputs": [
    {
     "data": {
      "text/plain": [
       "13"
      ]
     },
     "execution_count": 12,
     "metadata": {},
     "output_type": "execute_result"
    }
   ],
   "source": [
    "len(yticks)"
   ]
  },
  {
   "cell_type": "code",
   "execution_count": 13,
   "id": "5f16836c",
   "metadata": {},
   "outputs": [
    {
     "data": {
      "image/png": "[encoded data removed]",
      "text/plain": [
       "<Figure size 432x288 with 1 Axes>"
      ]
     },
     "metadata": {
      "needs_background": "light"
     },
     "output_type": "display_data"
    }
   ],
   "source": [
    "# possibly find coherence of B / v amplitude\n",
    "q1 = vals[:, 0, lut[2202]] # this is the product (B^2 ~ B_theta^2) x v\n",
    "q2 = np.sqrt(vals[:, 1, lut[301]]) # ~ v/r\n",
    "q3 = vals[:, 1, lut[802]] # ~ B^2\n",
    "#rphys = di_grid['rr']\n",
    "rcut2 = 0.7\n",
    "ircut = np.argmin(np.abs(rr - rcut2))\n",
    "plt.plot(rr[ircut:], (q1/(q2*q3))[ircut:])\n",
    "plt.yscale('log')"
   ]
  },
  {
   "cell_type": "code",
   "execution_count": 14,
   "id": "3d59502c",
   "metadata": {},
   "outputs": [
    {
     "data": {
      "image/png": "[encoded data removed]",
      "text/plain": [
       "<Figure size 432x288 with 1 Axes>"
      ]
     },
     "metadata": {
      "needs_background": "light"
     },
     "output_type": "display_data"
    }
   ],
   "source": [
    "# try this with just the inductive amplitude\n",
    "q1 = np.sqrt(vals[:, 1, lut[1609]]) # B_theta ~ v\n",
    "q2 = np.sqrt(vals[:, 1, lut[301]]) # ~ v/r\n",
    "q3 = np.sqrt(vals[:, 1, lut[801]] + vals[:, 1, lut[802]])  # ~ B\n",
    "rphys = di_grid['rr']\n",
    "plt.plot(rr[ircut:], (q1/(q2*q3))[ircut:])\n",
    "plt.yscale('log')"
   ]
  },
  {
   "cell_type": "code",
   "execution_count": 15,
   "id": "16d14db7",
   "metadata": {},
   "outputs": [],
   "source": [
    "# but this doesn't really show anything does it... not \"all induction matters\""
   ]
  },
  {
   "cell_type": "code",
   "execution_count": 16,
   "id": "90ef7718",
   "metadata": {},
   "outputs": [
    {
     "data": {
      "text/plain": [
       "(-1.0, 1.0)"
      ]
     },
     "execution_count": 16,
     "metadata": {},
     "output_type": "execute_result"
    }
   ],
   "source": [
    "ax2.get_ylim()"
   ]
  },
  {
   "cell_type": "code",
   "execution_count": null,
   "id": "539697bc",
   "metadata": {},
   "outputs": [],
   "source": []
  }
 ],
 "metadata": {
  "kernelspec": {
   "display_name": "Python 3",
   "language": "python",
   "name": "python3"
  },
  "language_info": {
   "codemirror_mode": {
    "name": "ipython",
    "version": 3
   },
   "file_extension": ".py",
   "mimetype": "text/x-python",
   "name": "python",
   "nbconvert_exporter": "python",
   "pygments_lexer": "ipython3",
   "version": "3.7.10"
  }
 },
 "nbformat": 4,
 "nbformat_minor": 5
}
